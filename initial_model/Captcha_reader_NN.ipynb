{
  "cells": [
    {
      "cell_type": "code",
      "execution_count": 1,
      "metadata": {
        "id": "NzJ9P2dzzeFy"
      },
      "outputs": [],
      "source": [
        "import numpy as np\n",
        "import os\n",
        "import logging\n",
        "\n",
        "from pathlib import Path\n",
        "from collections import Counter\n",
        "\n",
        "from sklearn.model_selection import train_test_split\n",
        "\n",
        "import torch\n",
        "import torch.nn as nn\n",
        "import torch.optim as optim\n",
        "import torch.nn.functional as F\n",
        "from torch.utils.data import DataLoader, Dataset\n",
        "import torchvision.transforms as transforms\n",
        "\n",
        "from PIL import Image\n",
        "\n",
        "import cv2\n",
        "\n",
        "from tqdm import tqdm\n",
        "\n",
        "import albumentations as A"
      ]
    },
    {
      "cell_type": "code",
      "execution_count": 2,
      "metadata": {
        "id": "kk-rVTBz3FDW"
      },
      "outputs": [
        {
          "name": "stdout",
          "output_type": "stream",
          "text": [
            "Number of images found:  357160\n",
            "Number of labels found:  357160\n",
            "Number of unique characters:  63\n",
            "Characters present:  ['0', '1', '2', '3', '4', '5', '6', '7', '8', '9', 'A', 'B', 'C', 'D', 'E', 'F', 'G', 'H', 'I', 'J', 'K', 'L', 'M', 'N', 'O', 'P', 'Q', 'R', 'S', 'T', 'U', 'V', 'W', 'X', 'Y', 'Z', '_', 'a', 'b', 'c', 'd', 'e', 'f', 'g', 'h', 'i', 'j', 'k', 'l', 'm', 'n', 'o', 'p', 'q', 'r', 's', 't', 'u', 'v', 'w', 'x', 'y', 'z']\n"
          ]
        }
      ],
      "source": [
        "data_dir1 = Path(\"/home/ishan/Python proj/Captcha reader/Datasets/DS1\")\n",
        "data_dir2 = Path(\"/home/ishan/Python proj/Captcha reader/Datasets/DS2\")\n",
        "data_dir3 = Path(\"/home/ishan/Python proj/Captcha reader/Datasets/DS3/archive/CAPTCHA/synthesized_data\")\n",
        "data_dir4 = Path(\"/home/ishan/Python proj/Captcha reader/Datasets/DS4/archive\")\n",
        "data_dir5 = Path(\"/home/ishan/Python proj/Captcha reader/Datasets/DS5/archive/captcha_images_v2\")\n",
        "data_dir6 = Path(\"/home/ishan/Python proj/Captcha reader/Datasets/DS6/imgs/archive/comprasnet_imagensacerto\")\n",
        "data_dir7 = Path(\"/home/ishan/Python proj/Captcha reader/Datasets/DS7/archive (6)/Captcha/Captcha\")\n",
        "\n",
        "images1 = sorted([str(p) for p in data_dir1.glob(\"*.jpg\")])\n",
        "labels1 = [Path(p).stem for p in images1]\n",
        "\n",
        "images2 = sorted([str(p) for p in data_dir2.glob(\"*.jpg\")])\n",
        "labels2 = [Path(p).stem for p in images2]\n",
        "\n",
        "images3 = sorted([str(p) for p in data_dir3.glob(\"*.png\")])\n",
        "labels3 = [Path(p).stem for p in images3]\n",
        "\n",
        "images4 = sorted([str(p) for p in data_dir4.glob(\"*.jpg\")])\n",
        "labels4 = [Path(p).stem for p in images4]\n",
        "\n",
        "images5 = sorted([str(p) for p in data_dir5.glob(\"*.png\")])\n",
        "labels5 = [Path(p).stem for p in images5]\n",
        "\n",
        "images6 = sorted([str(p) for p in data_dir6.glob(\"*.png\")])\n",
        "labels6 = [Path(p).stem for p in images6]\n",
        "\n",
        "images7 = sorted([str(p) for p in data_dir7.glob(\"*.png\")])\n",
        "labels7 = [Path(p).stem for p in images7]\n",
        "\n",
        "images = images1 + images2 + images3 + images4 + images5 + images6 + images7\n",
        "labels = labels1 + labels2 + labels3 + labels4 + labels5 + labels6 + labels7\n",
        "\n",
        "characters = sorted(set(char for label in labels for char in label))\n",
        "print(\"Number of images found: \", len(images))\n",
        "print(\"Number of labels found: \", len(labels))\n",
        "print(\"Number of unique characters: \", len(characters))\n",
        "print(\"Characters present: \", characters)\n",
        "\n",
        "batch_size = 128\n",
        "\n",
        "img_width = 150\n",
        "img_height = 40\n",
        "\n",
        "max_length = max([len(label) for label in labels])"
      ]
    },
    {
      "cell_type": "code",
      "execution_count": 3,
      "metadata": {},
      "outputs": [],
      "source": [
        "logging.basicConfig(\n",
        "    filename=\"/home/ishan/Python proj/Captcha reader/Model/CTC on 200K images, val = 0.1%/training_log.txt\",         # file to save logs\n",
        "    level=logging.INFO,              # or DEBUG for more verbosity\n",
        "    filemode=\"a\", \n",
        "    format=\"%(asctime)s - %(levelname)s - %(message)s\",\n",
        "    datefmt=\"%Y-%m-%d %H:%M:%S\"\n",
        ")"
      ]
    },
    {
      "cell_type": "code",
      "execution_count": 4,
      "metadata": {
        "id": "3l3G8py01734"
      },
      "outputs": [],
      "source": [
        "X_train, X_test, Y_train, Y_test = train_test_split(images, labels, test_size=0.1, random_state=42)\n",
        "char_to_num = {ch: i for i, ch in enumerate(characters)}\n",
        "char_to_num['_'] = len(characters)\n",
        "num_to_char = {i: ch for ch, i in char_to_num.items()}\n",
        "\n",
        "class CaptchaDataset(Dataset):\n",
        "    def __init__(self, images, labels, char_to_num, img_width, img_height):\n",
        "        self.images = images\n",
        "        self.labels = labels\n",
        "        self.char_to_num = char_to_num\n",
        "        self.img_width = img_width\n",
        "        self.img_height = img_height\n",
        "        self.aug = A.Compose([A.Normalize(always_apply = True)])\n",
        "\n",
        "    def __len__(self):\n",
        "        return len(self.images)\n",
        "\n",
        "    def __getitem__(self, idx):\n",
        "        image = self.images[idx]\n",
        "        label = self.labels[idx]\n",
        "\n",
        "        # Preprocess image\n",
        "        image = cv2.imread(image, cv2.COLOR_BGR2RGB)\n",
        "        image = cv2.resize(image, (self.img_width, self.img_height), interpolation=cv2.INTER_LANCZOS4)\n",
        "        image = np.array(image)\n",
        "        image = self.aug(image=image)['image']\n",
        "        image = np.transpose(image, (2, 0, 1))\n",
        "\n",
        "        # Encode label\n",
        "        label = [self.char_to_num[c] for c in label]\n",
        "        label = np.array(label)\n",
        "        target_len = len(label)\n",
        "\n",
        "\n",
        "        return {\n",
        "            \"image\": torch.tensor(image, dtype=torch.float),\n",
        "            \"label\": torch.tensor(label, dtype=torch.long),\n",
        "            \"target_length\": target_len\n",
        "        }\n"
      ]
    },
    {
      "cell_type": "code",
      "execution_count": 5,
      "metadata": {
        "id": "CdoubDJdUMeF"
      },
      "outputs": [],
      "source": [
        "def captcha_collate_fn(batch):\n",
        "    images = []\n",
        "    labels = []\n",
        "    target_lengths = []\n",
        "\n",
        "    for item in batch:\n",
        "        images.append(item[\"image\"].unsqueeze(0))  # add batch dim\n",
        "        labels.extend(item[\"label\"])               # flatten all labels\n",
        "        target_lengths.append(item[\"target_length\"])\n",
        "\n",
        "    images = torch.cat(images, dim=0)  # (B, C, H, W)\n",
        "    labels = torch.tensor(labels, dtype=torch.long)  # 1D tensor of all labels\n",
        "    target_lengths = torch.tensor(target_lengths, dtype=torch.long)\n",
        "\n",
        "    return {\n",
        "        \"image\": images,\n",
        "        \"label\": labels,\n",
        "        \"target_length\": target_lengths\n",
        "    }\n"
      ]
    },
    {
      "cell_type": "code",
      "execution_count": 6,
      "metadata": {
        "id": "IZc_CqXYHAE-"
      },
      "outputs": [],
      "source": [
        "class captcha_CNN(nn.Module):\n",
        "    def __init__(self, num_classes, img_channels, hidden_size=256):\n",
        "        super(captcha_CNN, self).__init__()\n",
        "        self.conv1 = nn.Conv2d(img_channels, 64, kernel_size=3, stride=1, padding=1)\n",
        "        self.pool1 = nn.MaxPool2d(2, 2)\n",
        "\n",
        "        self.conv2 = nn.Conv2d(64, 128, kernel_size=3, stride=1, padding=1)\n",
        "        self.conv2a = nn.Conv2d(128, 128, kernel_size=3, stride=1, padding=1)\n",
        "        self.bn2a = nn.BatchNorm2d(128)\n",
        "        self.pool2 = nn.MaxPool2d(2, 2)\n",
        "\n",
        "        self.conv3 = nn.Conv2d(128, 256, kernel_size=3, stride=1, padding=1)\n",
        "        self.bn3 = nn.BatchNorm2d(256)\n",
        "\n",
        "        self.conv4 = nn.Conv2d(256, 256, kernel_size=3, stride=1, padding=1)\n",
        "        self.pool3 = nn.MaxPool2d((2, 1), (2, 1))\n",
        "\n",
        "        self.conv5 = nn.Conv2d(256, 512, kernel_size=3, stride=1, padding=1)\n",
        "        self.bn5 = nn.BatchNorm2d(512)\n",
        "\n",
        "        self.conv6 = nn.Conv2d(512, 512, kernel_size=3, stride=1, padding=1)\n",
        "        self.conv6a = nn.Conv2d(512, 512, kernel_size=3, stride=1, padding=1)\n",
        "        self.pool4 = nn.MaxPool2d((2, 1), (2, 1))\n",
        "\n",
        "        self.conv7 = nn.Conv2d(512, 512, kernel_size=2, stride=1, padding=0)\n",
        "\n",
        "        self.rnn = nn.LSTM(\n",
        "            input_size=512,\n",
        "            hidden_size=hidden_size,\n",
        "            num_layers=2,\n",
        "            batch_first=True,\n",
        "            bidirectional=True,\n",
        "            dropout=0.5\n",
        "        )\n",
        "\n",
        "        self.dropout = nn.Dropout(0.3)\n",
        "\n",
        "        self.fc = nn.Linear(hidden_size * 2, num_classes)\n",
        "\n",
        "    def forward(self, x):\n",
        "        x = F.relu(self.conv1(x))\n",
        "        x = self.pool1(x)\n",
        "        x = self.dropout(x)\n",
        "\n",
        "        x = F.relu(self.conv2(x))\n",
        "        x = self.conv2a(x)\n",
        "        x = F.relu(self.bn2a(x))\n",
        "        x = self.pool2(x)\n",
        "        x = self.dropout(x)\n",
        "\n",
        "        x = F.relu(self.bn3(self.conv3(x)))\n",
        "\n",
        "        x = F.relu(self.conv4(x))\n",
        "        x = self.pool3(x)\n",
        "\n",
        "        x = F.relu(self.bn5(self.conv5(x)))\n",
        "\n",
        "        x = F.relu(self.conv6(x))\n",
        "        x = F.relu(self.conv6a(x))\n",
        "        x = self.pool4(x)\n",
        "\n",
        "        x = F.relu(self.conv7(x))\n",
        "\n",
        "        B, C, H, W = x.size()\n",
        "        assert H == 1, \"Height should be 1 after convolution layers\"\n",
        "\n",
        "        x = x.squeeze(2).permute(0, 2, 1)  # (B, W, C)\n",
        "\n",
        "        x, _ = self.rnn(x)  # (B, W, hidden_size * 2)\n",
        "\n",
        "        x = self.fc(x)  # (B, W, num_classes)\n",
        "        return x\n",
        "\n",
        "\n"
      ]
    },
    {
      "cell_type": "code",
      "execution_count": 7,
      "metadata": {},
      "outputs": [],
      "source": [
        "def load_last_checkpoint(model, optimizer, checkpoint_dir, device='cuda'):\n",
        "    \"\"\"\n",
        "    Loads the last saved checkpoint (by epoch number) from a directory.\n",
        "    \n",
        "    Args:\n",
        "        model: PyTorch model\n",
        "        optimizer: Optimizer\n",
        "        checkpoint_dir: Directory containing checkpoint files\n",
        "        device: Device to map model to ('cuda' or 'cpu')\n",
        "\n",
        "    Returns:\n",
        "        model, optimizer, start_epoch, loss_at_checkpoint\n",
        "    \"\"\"\n",
        "    if not os.path.exists(checkpoint_dir):\n",
        "        print(\"⚠️ No checkpoint directory found. Starting fresh.\")\n",
        "        return model, optimizer, 0, None\n",
        "\n",
        "    checkpoints = [f for f in os.listdir(checkpoint_dir) if f.endswith(\".pth\")]\n",
        "    if not checkpoints:\n",
        "        print(\"⚠️ No checkpoints found in directory. Starting fresh.\")\n",
        "        return model, optimizer, 0, None\n",
        "\n",
        "    # Sort and pick the last one\n",
        "    checkpoints.sort(key=lambda x: int(x.split(\"epoch_\")[-1].split(\".\")[0]))\n",
        "    last_checkpoint = checkpoints[-1]\n",
        "    checkpoint_path = os.path.join(checkpoint_dir, last_checkpoint)\n",
        "\n",
        "    print(f\"✅ Loading last checkpoint: {checkpoint_path}\")\n",
        "    checkpoint = torch.load(checkpoint_path, map_location=device)\n",
        "\n",
        "    # Load model + optimizer\n",
        "    model.load_state_dict(checkpoint['model_state_dict'])\n",
        "    optimizer.load_state_dict(checkpoint['optimizer_state_dict'])\n",
        "\n",
        "    start_epoch = checkpoint['epoch'] + 1  # resume from next epoch\n",
        "    last_loss = checkpoint.get('loss', None)\n",
        "\n",
        "    return model, optimizer, start_epoch, last_loss\n"
      ]
    },
    {
      "cell_type": "code",
      "execution_count": 8,
      "metadata": {
        "id": "KAOx8R1RHAE_"
      },
      "outputs": [],
      "source": [
        "def train_model_with_visualization(model, train_loader, val_loader, criterion, optimizer,  num_epochs, start_epoch=0, device=\"cuda\"):\n",
        "    model = model.to(device)\n",
        "    scheduler = optim.lr_scheduler.ReduceLROnPlateau(optimizer, patience=3, factor=0.1)\n",
        "\n",
        "    epoch_train_losses = []\n",
        "    epoch_val_losses = []\n",
        "\n",
        "    for epoch in range(start_epoch, num_epochs):\n",
        "        # ---------------- TRAIN ----------------\n",
        "        model.train()\n",
        "        running_train_loss = 0.0\n",
        "        train_bar = tqdm(train_loader, desc=f\"Epoch {epoch+1}/{num_epochs} [Train]\")\n",
        "\n",
        "        for batch in train_bar:\n",
        "            images = batch[\"image\"].to(device)\n",
        "            labels = batch[\"label\"].to(device)\n",
        "            target_lengths = batch[\"target_length\"].to(device)\n",
        "\n",
        "            optimizer.zero_grad()\n",
        "            outputs = model(images)  # (B, W, C)\n",
        "            B, W, C = outputs.size()\n",
        "\n",
        "            log_probs = F.log_softmax(outputs, dim=2).permute(1, 0, 2)  # (W, B, C)\n",
        "            input_lengths = torch.full((B,), W, dtype=torch.long, device=device)\n",
        "\n",
        "            loss = criterion(log_probs, labels, input_lengths, target_lengths)\n",
        "            loss.backward()\n",
        "            torch.nn.utils.clip_grad_norm_(model.parameters(), 5)\n",
        "            optimizer.step()\n",
        "\n",
        "            running_train_loss += loss.item()\n",
        "            train_bar.set_postfix({\"CTC Loss\": f\"{loss.item():.6f}\"})\n",
        "\n",
        "        avg_train_loss = running_train_loss / len(train_loader)\n",
        "        epoch_train_losses.append(avg_train_loss)\n",
        "\n",
        "        # ---------------- VALIDATION ----------------\n",
        "        model.eval()\n",
        "        running_val_loss = 0.0\n",
        "        val_bar = tqdm(val_loader, desc=f\"Epoch {epoch+1}/{num_epochs} [Val]\")\n",
        "\n",
        "        with torch.no_grad():\n",
        "            for batch_idx, batch in enumerate(val_bar):\n",
        "                images = batch[\"image\"].to(device)\n",
        "                labels = batch[\"label\"]\n",
        "                target_lengths = batch[\"target_length\"].to(device)\n",
        "\n",
        "                outputs = model(images)\n",
        "                B, W, C = outputs.size()\n",
        "                input_lengths = torch.full((B,), W, dtype=torch.long, device=device)\n",
        "                log_probs = F.log_softmax(outputs, dim=2).permute(1, 0, 2)\n",
        "\n",
        "                loss = criterion(log_probs, labels.to(device), input_lengths, target_lengths)\n",
        "                running_val_loss += loss.item()\n",
        "                val_bar.set_postfix({'CTC Loss': f'{loss.item():.6f}'})\n",
        "\n",
        "                # Decode some predictions\n",
        "                if batch_idx == 0:\n",
        "                    preds = log_probs.permute(1, 0, 2).argmax(dim=2).cpu()  # (B, T)\n",
        "                    decoded_texts = []\n",
        "                    for pred in preds:\n",
        "                        prev = -1\n",
        "                        seq = []\n",
        "                        for p in pred:\n",
        "                            p = p.item()\n",
        "                            if p != prev and p != 0:  # skip blanks (assuming blank=0)\n",
        "                                seq.append(num_to_char[p])\n",
        "                            prev = p\n",
        "                        decoded_texts.append(\"\".join(seq))\n",
        "\n",
        "                    # Ground truth\n",
        "                    true_texts = []\n",
        "                    idx = 0\n",
        "                    for length in target_lengths:\n",
        "                        l = labels[idx: idx + length].tolist()\n",
        "                        true_texts.append(\"\".join([num_to_char[c] for c in l]))\n",
        "                        idx += length\n",
        "\n",
        "                    print(\"\\nSample predictions:\")\n",
        "                    for t, p in zip(true_texts[:5], decoded_texts[:5]):\n",
        "                        print(f\"GT: {t} | Pred: {p}\")\n",
        "\n",
        "        avg_val_loss = running_val_loss / len(val_loader)\n",
        "        epoch_val_losses.append(avg_val_loss)\n",
        "        scheduler.step(avg_val_loss)\n",
        "        lr = optimizer.param_groups[0]['lr']\n",
        "\n",
        "        msg = (f\"Epoch [{epoch+1}/{num_epochs}] \"\n",
        "        f\"Train Loss: {avg_train_loss:.4f} | \"\n",
        "        f\"Val Loss: {avg_val_loss:.4f} | \"\n",
        "        f\"LR: {lr:.6f}\")\n",
        "        logging.info(msg)\n",
        "        print(msg)\n",
        "\n",
        "\n",
        "        if (epoch + 1) % 5 == 0 or avg_val_loss == min(epoch_val_losses):\n",
        "            checkpoint_path = f\"/home/ishan/Python proj/Captcha reader/Model/CTC on 200K images, val = 0.1%/ctc_model_epoch_{epoch+1}.pth\"\n",
        "            torch.save({\n",
        "                'epoch': epoch,  # current epoch\n",
        "                'model_state_dict': model.state_dict(),  # model weights\n",
        "                'optimizer_state_dict': optimizer.state_dict(),  # optimizer state\n",
        "                'loss': loss.item(),  # last batch loss\n",
        "            }, checkpoint_path)\n",
        "    print(\"Training complete.\")\n",
        "    return epoch_train_losses, epoch_val_losses\n",
        "\n"
      ]
    },
    {
      "cell_type": "code",
      "execution_count": 9,
      "metadata": {
        "id": "tSQs23c8HAE_"
      },
      "outputs": [
        {
          "name": "stdout",
          "output_type": "stream",
          "text": [
            "Using device: cuda\n"
          ]
        },
        {
          "name": "stderr",
          "output_type": "stream",
          "text": [
            "/tmp/ipykernel_90111/2410209897.py:13: UserWarning: Argument(s) 'always_apply' are not valid for transform Normalize\n",
            "  self.aug = A.Compose([A.Normalize(always_apply = True)])\n"
          ]
        }
      ],
      "source": [
        "device = 'cuda' if torch.cuda.is_available() else 'cpu'\n",
        "print(f\"Using device: {device}\")\n",
        "model = captcha_CNN(num_classes=len(characters) + 1, img_channels=3).to(device)\n",
        "ctc_loss = nn.CTCLoss(blank=len(characters), zero_infinity=True)\n",
        "optimizer = optim.Adam(model.parameters(), lr=0.0001)\n",
        "\n",
        "train_dataset = CaptchaDataset(X_train, Y_train, char_to_num, img_width, img_height)\n",
        "val_dataset = CaptchaDataset(X_test, Y_test, char_to_num, img_width, img_height)\n",
        "\n",
        "train_loader = DataLoader(\n",
        "    train_dataset,\n",
        "    batch_size=batch_size,\n",
        "    shuffle=True,\n",
        "    collate_fn=captcha_collate_fn\n",
        ")\n",
        "\n",
        "val_loader = DataLoader(\n",
        "    val_dataset,\n",
        "    batch_size=batch_size,\n",
        "    shuffle=True,\n",
        "    collate_fn=captcha_collate_fn\n",
        ")"
      ]
    },
    {
      "cell_type": "code",
      "execution_count": 10,
      "metadata": {},
      "outputs": [
        {
          "name": "stdout",
          "output_type": "stream",
          "text": [
            "⚠️ No checkpoints found in directory. Starting fresh.\n",
            "Resuming training from epoch 0, last loss = None\n"
          ]
        }
      ],
      "source": [
        "checkpoint_dir = \"/home/ishan/Python proj/Captcha reader/Model/CTC on 200K images, val = 0.1%\"\n",
        "\n",
        "model, optimizer, start_epoch, last_loss = load_last_checkpoint(\n",
        "    model, optimizer, checkpoint_dir, device=\"cuda\"\n",
        ")\n",
        "\n",
        "print(f\"Resuming training from epoch {start_epoch}, last loss = {last_loss}\")\n"
      ]
    },
    {
      "cell_type": "code",
      "execution_count": 11,
      "metadata": {
        "id": "pUK7KAFMHAE_"
      },
      "outputs": [
        {
          "name": "stderr",
          "output_type": "stream",
          "text": [
            "Epoch 1/1000 [Train]: 100%|██████████| 2512/2512 [07:44<00:00,  5.41it/s, CTC Loss=3.721050]\n",
            "Epoch 1/1000 [Val]:   1%|          | 3/280 [00:00<00:26, 10.29it/s, CTC Loss=3.588468]"
          ]
        },
        {
          "name": "stdout",
          "output_type": "stream",
          "text": [
            "\n",
            "Sample predictions:\n",
            "GT: D6cbdr | Pred: Ydpnh_\n",
            "GT: D8cNGH | Pred: DwN_\n",
            "GT: glrU4 | Pred: 4wNn_\n",
            "GT: 7RvnfJSc_2792 | Pred: 1j_\n",
            "GT: HYmO_9602 | Pred: mW_\n"
          ]
        },
        {
          "name": "stderr",
          "output_type": "stream",
          "text": [
            "Epoch 1/1000 [Val]: 100%|██████████| 280/280 [00:26<00:00, 10.75it/s, CTC Loss=3.939458]\n"
          ]
        },
        {
          "name": "stdout",
          "output_type": "stream",
          "text": [
            "Epoch [1/1000] Train Loss: 3.9905 | Val Loss: 3.6623 | LR: 0.000100\n"
          ]
        },
        {
          "name": "stderr",
          "output_type": "stream",
          "text": [
            "Epoch 2/1000 [Train]: 100%|██████████| 2512/2512 [07:15<00:00,  5.77it/s, CTC Loss=1.945286]\n",
            "Epoch 2/1000 [Val]:   1%|          | 2/280 [00:00<00:25, 10.78it/s, CTC Loss=1.799905]"
          ]
        },
        {
          "name": "stdout",
          "output_type": "stream",
          "text": [
            "\n",
            "Sample predictions:\n",
            "GT: RxSjY | Pred: RXSxY_\n",
            "GT: 56HnO | Pred: 56H6Q_\n",
            "GT: kzd6F | Pred: kZd6F_\n",
            "GT: wn7dnb_7104 | Pred: wnd_2\n",
            "GT: t06EZ | Pred: tD6EZ_\n"
          ]
        },
        {
          "name": "stderr",
          "output_type": "stream",
          "text": [
            "Epoch 2/1000 [Val]: 100%|██████████| 280/280 [00:24<00:00, 11.49it/s, CTC Loss=1.464478]\n"
          ]
        },
        {
          "name": "stdout",
          "output_type": "stream",
          "text": [
            "Epoch [2/1000] Train Loss: 2.7678 | Val Loss: 1.6713 | LR: 0.000100\n"
          ]
        },
        {
          "name": "stderr",
          "output_type": "stream",
          "text": [
            "Epoch 3/1000 [Train]: 100%|██████████| 2512/2512 [07:09<00:00,  5.85it/s, CTC Loss=0.760922]\n",
            "Epoch 3/1000 [Val]:   1%|          | 2/280 [00:00<00:25, 11.07it/s, CTC Loss=0.833766]"
          ]
        },
        {
          "name": "stdout",
          "output_type": "stream",
          "text": [
            "\n",
            "Sample predictions:\n",
            "GT: ehU49p | Pred: ehU49p_\n",
            "GT: ctBW9U | Pred: ciBW9U_\n",
            "GT: Hrkqi | Pred: Hrkqi_\n",
            "GT: qaphM | Pred: qaphM_\n",
            "GT: dCEw1m | Pred: dCEw1m_\n"
          ]
        },
        {
          "name": "stderr",
          "output_type": "stream",
          "text": [
            "Epoch 3/1000 [Val]: 100%|██████████| 280/280 [00:24<00:00, 11.64it/s, CTC Loss=0.761804]\n"
          ]
        },
        {
          "name": "stdout",
          "output_type": "stream",
          "text": [
            "Epoch [3/1000] Train Loss: 1.1403 | Val Loss: 0.7488 | LR: 0.000100\n"
          ]
        },
        {
          "name": "stderr",
          "output_type": "stream",
          "text": [
            "Epoch 4/1000 [Train]: 100%|██████████| 2512/2512 [07:16<00:00,  5.75it/s, CTC Loss=0.556492]\n",
            "Epoch 4/1000 [Val]:   1%|          | 3/280 [00:00<00:24, 11.41it/s, CTC Loss=0.432633]"
          ]
        },
        {
          "name": "stdout",
          "output_type": "stream",
          "text": [
            "\n",
            "Sample predictions:\n",
            "GT: 5t52b | Pred: 5t5_2b_\n",
            "GT: t4Ih1t_6520 | Pred: t4Ih1t_7_\n",
            "GT: eL5lO | Pred: aL5_lO_\n",
            "GT: MSXcI_1951 | Pred: MSX_cI_7_6\n",
            "GT: oOBz5 | Pred: oOBz5_\n"
          ]
        },
        {
          "name": "stderr",
          "output_type": "stream",
          "text": [
            "Epoch 4/1000 [Val]: 100%|██████████| 280/280 [00:23<00:00, 11.88it/s, CTC Loss=0.366630]\n"
          ]
        },
        {
          "name": "stdout",
          "output_type": "stream",
          "text": [
            "Epoch [4/1000] Train Loss: 0.6044 | Val Loss: 0.4446 | LR: 0.000100\n"
          ]
        },
        {
          "name": "stderr",
          "output_type": "stream",
          "text": [
            "Epoch 5/1000 [Train]: 100%|██████████| 2512/2512 [07:14<00:00,  5.78it/s, CTC Loss=0.282414]\n",
            "Epoch 5/1000 [Val]:   1%|          | 2/280 [00:00<00:24, 11.39it/s, CTC Loss=0.320197]"
          ]
        },
        {
          "name": "stdout",
          "output_type": "stream",
          "text": [
            "\n",
            "Sample predictions:\n",
            "GT: GQMdG | Pred: GQM_dG_\n",
            "GT: wdKUF | Pred: wdK_UF_\n",
            "GT: nXVIXP_4916 | Pred: nXV_IXP_2_2\n",
            "GT: zR2KL | Pred: zR2_Kl_\n",
            "GT: hg62O | Pred: hg6_2O_\n"
          ]
        },
        {
          "name": "stderr",
          "output_type": "stream",
          "text": [
            "Epoch 5/1000 [Val]: 100%|██████████| 280/280 [00:23<00:00, 11.77it/s, CTC Loss=0.229069]\n"
          ]
        },
        {
          "name": "stdout",
          "output_type": "stream",
          "text": [
            "Epoch [5/1000] Train Loss: 0.4015 | Val Loss: 0.3367 | LR: 0.000100\n"
          ]
        },
        {
          "name": "stderr",
          "output_type": "stream",
          "text": [
            "Epoch 6/1000 [Train]: 100%|██████████| 2512/2512 [07:10<00:00,  5.83it/s, CTC Loss=0.250559]\n",
            "Epoch 6/1000 [Val]:   1%|          | 2/280 [00:00<00:24, 11.56it/s, CTC Loss=0.252278]"
          ]
        },
        {
          "name": "stdout",
          "output_type": "stream",
          "text": [
            "\n",
            "Sample predictions:\n",
            "GT: Dspa1i | Pred: Dspa1i_\n",
            "GT: 9EFfR | Pred: 9EF_Fr_\n",
            "GT: D3bWhK7K_2083 | Pred: D3bWh7K_8\n",
            "GT: P57acT | Pred: P57acT_\n",
            "GT: Seppm | Pred: Sep_pm_\n"
          ]
        },
        {
          "name": "stderr",
          "output_type": "stream",
          "text": [
            "Epoch 6/1000 [Val]: 100%|██████████| 280/280 [00:23<00:00, 12.14it/s, CTC Loss=0.178653]\n"
          ]
        },
        {
          "name": "stdout",
          "output_type": "stream",
          "text": [
            "Epoch [6/1000] Train Loss: 0.3208 | Val Loss: 0.2848 | LR: 0.000100\n"
          ]
        },
        {
          "name": "stderr",
          "output_type": "stream",
          "text": [
            "Epoch 7/1000 [Train]: 100%|██████████| 2512/2512 [06:58<00:00,  6.00it/s, CTC Loss=0.316409]\n",
            "Epoch 7/1000 [Val]:   1%|          | 2/280 [00:00<00:24, 11.46it/s, CTC Loss=0.328112]"
          ]
        },
        {
          "name": "stdout",
          "output_type": "stream",
          "text": [
            "\n",
            "Sample predictions:\n",
            "GT: vXt9r_647 | Pred: Vxt9r_61_6\n",
            "GT: idOFv | Pred: idOFv_\n",
            "GT: xrZIjs_6822 | Pred: xrzI_js_6_6\n",
            "GT: eUnzm | Pred: eUn_zm_\n",
            "GT: w8ymT | Pred: w8y_mT_\n"
          ]
        },
        {
          "name": "stderr",
          "output_type": "stream",
          "text": [
            "Epoch 7/1000 [Val]: 100%|██████████| 280/280 [00:22<00:00, 12.39it/s, CTC Loss=0.152595]\n"
          ]
        },
        {
          "name": "stdout",
          "output_type": "stream",
          "text": [
            "Epoch [7/1000] Train Loss: 0.2703 | Val Loss: 0.2517 | LR: 0.000100\n"
          ]
        },
        {
          "name": "stderr",
          "output_type": "stream",
          "text": [
            "Epoch 8/1000 [Train]: 100%|██████████| 2512/2512 [07:12<00:00,  5.81it/s, CTC Loss=0.243366]\n",
            "Epoch 8/1000 [Val]:   1%|          | 2/280 [00:00<00:24, 11.21it/s, CTC Loss=0.225698]"
          ]
        },
        {
          "name": "stdout",
          "output_type": "stream",
          "text": [
            "\n",
            "Sample predictions:\n",
            "GT: zyiYD | Pred: zyi_YD_\n",
            "GT: it45d | Pred: it45d_\n",
            "GT: wVRal | Pred: wVRal_\n",
            "GT: g3fxp6_1482 | Pred: g3_fxp6_7_4\n",
            "GT: fNcD_7839 | Pred: fNc_D_74_4\n"
          ]
        },
        {
          "name": "stderr",
          "output_type": "stream",
          "text": [
            "Epoch 8/1000 [Val]: 100%|██████████| 280/280 [00:23<00:00, 11.84it/s, CTC Loss=0.090582]\n"
          ]
        },
        {
          "name": "stdout",
          "output_type": "stream",
          "text": [
            "Epoch [8/1000] Train Loss: 0.2358 | Val Loss: 0.2312 | LR: 0.000100\n"
          ]
        },
        {
          "name": "stderr",
          "output_type": "stream",
          "text": [
            "Epoch 9/1000 [Train]: 100%|██████████| 2512/2512 [07:10<00:00,  5.84it/s, CTC Loss=0.285175]\n",
            "Epoch 9/1000 [Val]:   1%|          | 2/280 [00:00<00:24, 11.47it/s, CTC Loss=0.251989]"
          ]
        },
        {
          "name": "stdout",
          "output_type": "stream",
          "text": [
            "\n",
            "Sample predictions:\n",
            "GT: s3fMb | Pred: s3fMb_\n",
            "GT: FsJ6S | Pred: FsJ_6S_\n",
            "GT: asMUV | Pred: asM_UV_\n",
            "GT: JgDqd | Pred: JgD_qd_\n",
            "GT: 74PFv | Pred: 74P_FV_\n"
          ]
        },
        {
          "name": "stderr",
          "output_type": "stream",
          "text": [
            "Epoch 9/1000 [Val]: 100%|██████████| 280/280 [00:22<00:00, 12.32it/s, CTC Loss=0.226466]\n"
          ]
        },
        {
          "name": "stdout",
          "output_type": "stream",
          "text": [
            "Epoch [9/1000] Train Loss: 0.2118 | Val Loss: 0.2190 | LR: 0.000100\n"
          ]
        },
        {
          "name": "stderr",
          "output_type": "stream",
          "text": [
            "Epoch 10/1000 [Train]: 100%|██████████| 2512/2512 [06:58<00:00,  6.01it/s, CTC Loss=0.192436]\n",
            "Epoch 10/1000 [Val]:   1%|          | 2/280 [00:00<00:26, 10.68it/s, CTC Loss=0.208765]"
          ]
        },
        {
          "name": "stdout",
          "output_type": "stream",
          "text": [
            "\n",
            "Sample predictions:\n",
            "GT: DamZA | Pred: DamZA_\n",
            "GT: r2aqD | Pred: r2a_qD_\n",
            "GT: eVTfn1 | Pred: eVTfn1_\n",
            "GT: AHrT_441 | Pred: AHr_T_5_8\n",
            "GT: CC15I | Pred: C_15I_\n"
          ]
        },
        {
          "name": "stderr",
          "output_type": "stream",
          "text": [
            "Epoch 10/1000 [Val]: 100%|██████████| 280/280 [00:22<00:00, 12.35it/s, CTC Loss=0.435227]\n"
          ]
        },
        {
          "name": "stdout",
          "output_type": "stream",
          "text": [
            "Epoch [10/1000] Train Loss: 0.1943 | Val Loss: 0.2082 | LR: 0.000100\n"
          ]
        },
        {
          "name": "stderr",
          "output_type": "stream",
          "text": [
            "Epoch 11/1000 [Train]: 100%|██████████| 2512/2512 [07:01<00:00,  5.96it/s, CTC Loss=0.170006]\n",
            "Epoch 11/1000 [Val]:   1%|          | 2/280 [00:00<00:25, 10.70it/s, CTC Loss=0.210566]"
          ]
        },
        {
          "name": "stdout",
          "output_type": "stream",
          "text": [
            "\n",
            "Sample predictions:\n",
            "GT: 6WVSBi | Pred: 6W_VSBi_\n",
            "GT: 9v24r | Pred: 9v2_4R_\n",
            "GT: zanbc4 | Pred: zanbc4_\n",
            "GT: 37iMg | Pred: 37i_Mg_\n",
            "GT: pa7J1 | Pred: pa7_1l_\n"
          ]
        },
        {
          "name": "stderr",
          "output_type": "stream",
          "text": [
            "Epoch 11/1000 [Val]: 100%|██████████| 280/280 [00:23<00:00, 11.80it/s, CTC Loss=0.266810]\n"
          ]
        },
        {
          "name": "stdout",
          "output_type": "stream",
          "text": [
            "Epoch [11/1000] Train Loss: 0.1813 | Val Loss: 0.2036 | LR: 0.000100\n"
          ]
        },
        {
          "name": "stderr",
          "output_type": "stream",
          "text": [
            "Epoch 12/1000 [Train]:   5%|▌         | 128/2512 [00:21<06:47,  5.86it/s, CTC Loss=0.162085]\n"
          ]
        },
        {
          "ename": "KeyboardInterrupt",
          "evalue": "",
          "output_type": "error",
          "traceback": [
            "\u001b[31m---------------------------------------------------------------------------\u001b[39m",
            "\u001b[31mKeyboardInterrupt\u001b[39m                         Traceback (most recent call last)",
            "\u001b[36mCell\u001b[39m\u001b[36m \u001b[39m\u001b[32mIn[11]\u001b[39m\u001b[32m, line 1\u001b[39m\n\u001b[32m----> \u001b[39m\u001b[32m1\u001b[39m train_losses, val_losses = \u001b[43mtrain_model_with_visualization\u001b[49m\u001b[43m(\u001b[49m\n\u001b[32m      2\u001b[39m \u001b[43m    \u001b[49m\u001b[43mmodel\u001b[49m\u001b[43m,\u001b[49m\n\u001b[32m      3\u001b[39m \u001b[43m    \u001b[49m\u001b[43mtrain_loader\u001b[49m\u001b[43m,\u001b[49m\n\u001b[32m      4\u001b[39m \u001b[43m    \u001b[49m\u001b[43mval_loader\u001b[49m\u001b[43m,\u001b[49m\n\u001b[32m      5\u001b[39m \u001b[43m    \u001b[49m\u001b[43mctc_loss\u001b[49m\u001b[43m,\u001b[49m\n\u001b[32m      6\u001b[39m \u001b[43m    \u001b[49m\u001b[43moptimizer\u001b[49m\u001b[43m,\u001b[49m\n\u001b[32m      7\u001b[39m \u001b[43m    \u001b[49m\u001b[43mstart_epoch\u001b[49m\u001b[43m=\u001b[49m\u001b[43mstart_epoch\u001b[49m\u001b[43m,\u001b[49m\n\u001b[32m      8\u001b[39m \u001b[43m    \u001b[49m\u001b[43mnum_epochs\u001b[49m\u001b[43m=\u001b[49m\u001b[32;43m1000\u001b[39;49m\u001b[43m,\u001b[49m\n\u001b[32m      9\u001b[39m \u001b[43m    \u001b[49m\u001b[43mdevice\u001b[49m\u001b[43m=\u001b[49m\u001b[33;43m'\u001b[39;49m\u001b[33;43mcuda\u001b[39;49m\u001b[33;43m'\u001b[39;49m\n\u001b[32m     10\u001b[39m \u001b[43m)\u001b[49m\n",
            "\u001b[36mCell\u001b[39m\u001b[36m \u001b[39m\u001b[32mIn[8]\u001b[39m\u001b[32m, line 26\u001b[39m, in \u001b[36mtrain_model_with_visualization\u001b[39m\u001b[34m(model, train_loader, val_loader, criterion, optimizer, num_epochs, start_epoch, device)\u001b[39m\n\u001b[32m     23\u001b[39m log_probs = F.log_softmax(outputs, dim=\u001b[32m2\u001b[39m).permute(\u001b[32m1\u001b[39m, \u001b[32m0\u001b[39m, \u001b[32m2\u001b[39m)  \u001b[38;5;66;03m# (W, B, C)\u001b[39;00m\n\u001b[32m     24\u001b[39m input_lengths = torch.full((B,), W, dtype=torch.long, device=device)\n\u001b[32m---> \u001b[39m\u001b[32m26\u001b[39m loss = \u001b[43mcriterion\u001b[49m\u001b[43m(\u001b[49m\u001b[43mlog_probs\u001b[49m\u001b[43m,\u001b[49m\u001b[43m \u001b[49m\u001b[43mlabels\u001b[49m\u001b[43m,\u001b[49m\u001b[43m \u001b[49m\u001b[43minput_lengths\u001b[49m\u001b[43m,\u001b[49m\u001b[43m \u001b[49m\u001b[43mtarget_lengths\u001b[49m\u001b[43m)\u001b[49m\n\u001b[32m     27\u001b[39m loss.backward()\n\u001b[32m     28\u001b[39m torch.nn.utils.clip_grad_norm_(model.parameters(), \u001b[32m5\u001b[39m)\n",
            "\u001b[36mFile \u001b[39m\u001b[32m~/Python proj/Captcha reader/venv/lib/python3.12/site-packages/torch/nn/modules/module.py:1739\u001b[39m, in \u001b[36mModule._wrapped_call_impl\u001b[39m\u001b[34m(self, *args, **kwargs)\u001b[39m\n\u001b[32m   1737\u001b[39m     \u001b[38;5;28;01mreturn\u001b[39;00m \u001b[38;5;28mself\u001b[39m._compiled_call_impl(*args, **kwargs)  \u001b[38;5;66;03m# type: ignore[misc]\u001b[39;00m\n\u001b[32m   1738\u001b[39m \u001b[38;5;28;01melse\u001b[39;00m:\n\u001b[32m-> \u001b[39m\u001b[32m1739\u001b[39m     \u001b[38;5;28;01mreturn\u001b[39;00m \u001b[38;5;28;43mself\u001b[39;49m\u001b[43m.\u001b[49m\u001b[43m_call_impl\u001b[49m\u001b[43m(\u001b[49m\u001b[43m*\u001b[49m\u001b[43margs\u001b[49m\u001b[43m,\u001b[49m\u001b[43m \u001b[49m\u001b[43m*\u001b[49m\u001b[43m*\u001b[49m\u001b[43mkwargs\u001b[49m\u001b[43m)\u001b[49m\n",
            "\u001b[36mFile \u001b[39m\u001b[32m~/Python proj/Captcha reader/venv/lib/python3.12/site-packages/torch/nn/modules/module.py:1750\u001b[39m, in \u001b[36mModule._call_impl\u001b[39m\u001b[34m(self, *args, **kwargs)\u001b[39m\n\u001b[32m   1745\u001b[39m \u001b[38;5;66;03m# If we don't have any hooks, we want to skip the rest of the logic in\u001b[39;00m\n\u001b[32m   1746\u001b[39m \u001b[38;5;66;03m# this function, and just call forward.\u001b[39;00m\n\u001b[32m   1747\u001b[39m \u001b[38;5;28;01mif\u001b[39;00m \u001b[38;5;129;01mnot\u001b[39;00m (\u001b[38;5;28mself\u001b[39m._backward_hooks \u001b[38;5;129;01mor\u001b[39;00m \u001b[38;5;28mself\u001b[39m._backward_pre_hooks \u001b[38;5;129;01mor\u001b[39;00m \u001b[38;5;28mself\u001b[39m._forward_hooks \u001b[38;5;129;01mor\u001b[39;00m \u001b[38;5;28mself\u001b[39m._forward_pre_hooks\n\u001b[32m   1748\u001b[39m         \u001b[38;5;129;01mor\u001b[39;00m _global_backward_pre_hooks \u001b[38;5;129;01mor\u001b[39;00m _global_backward_hooks\n\u001b[32m   1749\u001b[39m         \u001b[38;5;129;01mor\u001b[39;00m _global_forward_hooks \u001b[38;5;129;01mor\u001b[39;00m _global_forward_pre_hooks):\n\u001b[32m-> \u001b[39m\u001b[32m1750\u001b[39m     \u001b[38;5;28;01mreturn\u001b[39;00m \u001b[43mforward_call\u001b[49m\u001b[43m(\u001b[49m\u001b[43m*\u001b[49m\u001b[43margs\u001b[49m\u001b[43m,\u001b[49m\u001b[43m \u001b[49m\u001b[43m*\u001b[49m\u001b[43m*\u001b[49m\u001b[43mkwargs\u001b[49m\u001b[43m)\u001b[49m\n\u001b[32m   1752\u001b[39m result = \u001b[38;5;28;01mNone\u001b[39;00m\n\u001b[32m   1753\u001b[39m called_always_called_hooks = \u001b[38;5;28mset\u001b[39m()\n",
            "\u001b[36mFile \u001b[39m\u001b[32m~/Python proj/Captcha reader/venv/lib/python3.12/site-packages/torch/nn/modules/loss.py:1982\u001b[39m, in \u001b[36mCTCLoss.forward\u001b[39m\u001b[34m(self, log_probs, targets, input_lengths, target_lengths)\u001b[39m\n\u001b[32m   1975\u001b[39m \u001b[38;5;28;01mdef\u001b[39;00m\u001b[38;5;250m \u001b[39m\u001b[34mforward\u001b[39m(\n\u001b[32m   1976\u001b[39m     \u001b[38;5;28mself\u001b[39m,\n\u001b[32m   1977\u001b[39m     log_probs: Tensor,\n\u001b[32m   (...)\u001b[39m\u001b[32m   1980\u001b[39m     target_lengths: Tensor,\n\u001b[32m   1981\u001b[39m ) -> Tensor:\n\u001b[32m-> \u001b[39m\u001b[32m1982\u001b[39m     \u001b[38;5;28;01mreturn\u001b[39;00m \u001b[43mF\u001b[49m\u001b[43m.\u001b[49m\u001b[43mctc_loss\u001b[49m\u001b[43m(\u001b[49m\n\u001b[32m   1983\u001b[39m \u001b[43m        \u001b[49m\u001b[43mlog_probs\u001b[49m\u001b[43m,\u001b[49m\n\u001b[32m   1984\u001b[39m \u001b[43m        \u001b[49m\u001b[43mtargets\u001b[49m\u001b[43m,\u001b[49m\n\u001b[32m   1985\u001b[39m \u001b[43m        \u001b[49m\u001b[43minput_lengths\u001b[49m\u001b[43m,\u001b[49m\n\u001b[32m   1986\u001b[39m \u001b[43m        \u001b[49m\u001b[43mtarget_lengths\u001b[49m\u001b[43m,\u001b[49m\n\u001b[32m   1987\u001b[39m \u001b[43m        \u001b[49m\u001b[38;5;28;43mself\u001b[39;49m\u001b[43m.\u001b[49m\u001b[43mblank\u001b[49m\u001b[43m,\u001b[49m\n\u001b[32m   1988\u001b[39m \u001b[43m        \u001b[49m\u001b[38;5;28;43mself\u001b[39;49m\u001b[43m.\u001b[49m\u001b[43mreduction\u001b[49m\u001b[43m,\u001b[49m\n\u001b[32m   1989\u001b[39m \u001b[43m        \u001b[49m\u001b[38;5;28;43mself\u001b[39;49m\u001b[43m.\u001b[49m\u001b[43mzero_infinity\u001b[49m\u001b[43m,\u001b[49m\n\u001b[32m   1990\u001b[39m \u001b[43m    \u001b[49m\u001b[43m)\u001b[49m\n",
            "\u001b[36mFile \u001b[39m\u001b[32m~/Python proj/Captcha reader/venv/lib/python3.12/site-packages/torch/nn/functional.py:3079\u001b[39m, in \u001b[36mctc_loss\u001b[39m\u001b[34m(log_probs, targets, input_lengths, target_lengths, blank, reduction, zero_infinity)\u001b[39m\n\u001b[32m   3067\u001b[39m \u001b[38;5;28;01mif\u001b[39;00m has_torch_function_variadic(log_probs, targets, input_lengths, target_lengths):\n\u001b[32m   3068\u001b[39m     \u001b[38;5;28;01mreturn\u001b[39;00m handle_torch_function(\n\u001b[32m   3069\u001b[39m         ctc_loss,\n\u001b[32m   3070\u001b[39m         (log_probs, targets, input_lengths, target_lengths),\n\u001b[32m   (...)\u001b[39m\u001b[32m   3077\u001b[39m         zero_infinity=zero_infinity,\n\u001b[32m   3078\u001b[39m     )\n\u001b[32m-> \u001b[39m\u001b[32m3079\u001b[39m \u001b[38;5;28;01mreturn\u001b[39;00m \u001b[43mtorch\u001b[49m\u001b[43m.\u001b[49m\u001b[43mctc_loss\u001b[49m\u001b[43m(\u001b[49m\n\u001b[32m   3080\u001b[39m \u001b[43m    \u001b[49m\u001b[43mlog_probs\u001b[49m\u001b[43m,\u001b[49m\n\u001b[32m   3081\u001b[39m \u001b[43m    \u001b[49m\u001b[43mtargets\u001b[49m\u001b[43m,\u001b[49m\n\u001b[32m   3082\u001b[39m \u001b[43m    \u001b[49m\u001b[43minput_lengths\u001b[49m\u001b[43m,\u001b[49m\n\u001b[32m   3083\u001b[39m \u001b[43m    \u001b[49m\u001b[43mtarget_lengths\u001b[49m\u001b[43m,\u001b[49m\n\u001b[32m   3084\u001b[39m \u001b[43m    \u001b[49m\u001b[43mblank\u001b[49m\u001b[43m,\u001b[49m\n\u001b[32m   3085\u001b[39m \u001b[43m    \u001b[49m\u001b[43m_Reduction\u001b[49m\u001b[43m.\u001b[49m\u001b[43mget_enum\u001b[49m\u001b[43m(\u001b[49m\u001b[43mreduction\u001b[49m\u001b[43m)\u001b[49m\u001b[43m,\u001b[49m\n\u001b[32m   3086\u001b[39m \u001b[43m    \u001b[49m\u001b[43mzero_infinity\u001b[49m\u001b[43m,\u001b[49m\n\u001b[32m   3087\u001b[39m \u001b[43m\u001b[49m\u001b[43m)\u001b[49m\n",
            "\u001b[31mKeyboardInterrupt\u001b[39m: "
          ]
        }
      ],
      "source": [
        "train_losses, val_losses = train_model_with_visualization(\n",
        "    model,\n",
        "    train_loader,\n",
        "    val_loader,\n",
        "    ctc_loss,\n",
        "    optimizer,\n",
        "    start_epoch=start_epoch,\n",
        "    num_epochs=1000,\n",
        "    device='cuda'\n",
        ")"
      ]
    }
  ],
  "metadata": {
    "accelerator": "GPU",
    "colab": {
      "gpuType": "T4",
      "provenance": []
    },
    "kernelspec": {
      "display_name": "venv",
      "language": "python",
      "name": "python3"
    },
    "language_info": {
      "codemirror_mode": {
        "name": "ipython",
        "version": 3
      },
      "file_extension": ".py",
      "mimetype": "text/x-python",
      "name": "python",
      "nbconvert_exporter": "python",
      "pygments_lexer": "ipython3",
      "version": "3.12.3"
    }
  },
  "nbformat": 4,
  "nbformat_minor": 0
}
